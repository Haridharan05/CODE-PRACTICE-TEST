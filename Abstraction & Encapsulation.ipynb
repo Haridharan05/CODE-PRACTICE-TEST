{
  "nbformat": 4,
  "nbformat_minor": 0,
  "metadata": {
    "colab": {
      "name": "BOOK LIBRARY CODE.ipynb",
      "provenance": [],
      "authorship_tag": "ABX9TyNGiU5ai/x+HNZzE6qbCxUm",
      "include_colab_link": true
    },
    "kernelspec": {
      "name": "python3",
      "display_name": "Python 3"
    },
    "language_info": {
      "name": "python"
    }
  },
  "cells": [
    {
      "cell_type": "markdown",
      "metadata": {
        "id": "view-in-github",
        "colab_type": "text"
      },
      "source": [
        "<a href=\"https://colab.research.google.com/github/Haridharan05/CODE-PRACTICE-TEST/blob/main/BOOK_LIBRARY_CODE.ipynb\" target=\"_parent\"><img src=\"https://colab.research.google.com/assets/colab-badge.svg\" alt=\"Open In Colab\"/></a>"
      ]
    },
    {
      "cell_type": "code",
      "execution_count": null,
      "metadata": {
        "id": "GBaD4vN9UQtt"
      },
      "outputs": [],
      "source": [
        "class Library:\n",
        "  def __init__(self,books):\n",
        "    self.books = books\n",
        "\n",
        "  def list_books(self):\n",
        "    print(\"Available Books\")\n",
        "    for book in self.books:\n",
        "      print(book)\n",
        "\n",
        "  def borrow_books(self,borrow_book):\n",
        "    if borrow_book in self.books:\n",
        "      print(\"Get Your Book Now\")\n",
        "      self.books.remove(borrow_book)\n",
        "    else:\n",
        "      print(\"Book Not Available\")\n",
        "  def receive_books(self,receive_book):\n",
        "      print(\"You have returned the book\")\n",
        "      self.books.append(receive_book)\n",
        "\n",
        "books = ['c','c++','Java']\n",
        "o = Library (books)\n",
        "\n",
        "msg = \"\"\"\n",
        "      1.Display Book\n",
        "      2.Borrow Book\n",
        "      3.Return Book\n",
        "\"\"\"\n",
        "while True:\n",
        "   print(msg)\n",
        "   ch = int(input(\"Enter Your Choice:\"))\n",
        "   if ch == 1:\n",
        "     o.list_books()\n",
        "   elif  ch == 2:\n",
        "     book = input(\"Enter Book Nmae to Borrow :\")\n",
        "     o.borrow_books(book)\n",
        "   elif ch == 3:\n",
        "     book = input(\"Enter Book name To Retrun:\")\n",
        "     o.receive_books(book)\n",
        "   else:\n",
        "     print(\"Thank You come again\")\n",
        "     quit()\n",
        "  \n"
      ]
    }
  ]
}
