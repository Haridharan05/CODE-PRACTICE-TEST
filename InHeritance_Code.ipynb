{
  "nbformat": 4,
  "nbformat_minor": 0,
  "metadata": {
    "colab": {
      "name": "InHeritance Code.ipynb",
      "provenance": [],
      "authorship_tag": "ABX9TyMBzuNu9doDe/otMCrR7VoQ",
      "include_colab_link": true
    },
    "kernelspec": {
      "name": "python3",
      "display_name": "Python 3"
    },
    "language_info": {
      "name": "python"
    }
  },
  "cells": [
    {
      "cell_type": "markdown",
      "metadata": {
        "id": "view-in-github",
        "colab_type": "text"
      },
      "source": [
        "<a href=\"https://colab.research.google.com/github/Haridharan05/CODE-PRACTICE-TEST/blob/main/InHeritance_Code.ipynb\" target=\"_parent\"><img src=\"https://colab.research.google.com/assets/colab-badge.svg\" alt=\"Open In Colab\"/></a>"
      ]
    },
    {
      "cell_type": "markdown",
      "source": [
        "###Inheritance in Python\n",
        "Inheritance is the capability of one class to derive or inherit the properties from another class. \n",
        "\n",
        "***Benefits of inheritance are*** \n",
        "* It represents real-world relationships well.\n",
        "* It provides the reusability of a code. We don’t have to write the same code again and again. Also, it allows us to add more features to a class without modifying it.\n",
        "* It is transitive in nature, which means that if class B inherits from another class A, then all the subclasses of B would automatically inherit from class A.\n",
        "\n",
        "***Python Inheritance Syntax***\n",
        "Class BaseClass:\n",
        "    {Body}\n",
        "Class DerivedClass(BaseClass):\n",
        "    {Body}\n",
        "\n"
      ],
      "metadata": {
        "id": "_5gLdy-VnQfb"
      }
    },
    {
      "cell_type": "markdown",
      "source": [
        "###SINGLE INHERITANCE\n",
        "is defined as the inheritance in which a derived class is inherited from the only one ***base class***"
      ],
      "metadata": {
        "id": "QiqucvoWgq83"
      }
    },
    {
      "cell_type": "code",
      "execution_count": 11,
      "metadata": {
        "colab": {
          "base_uri": "https://localhost:8080/"
        },
        "id": "9A8EOxoaetOE",
        "outputId": "b6819035-c532-4556-95c2-4d2719b492db"
      },
      "outputs": [
        {
          "output_type": "stream",
          "name": "stdout",
          "text": [
            "Name     : CD\n",
            "Year     : 1996\n",
            "Company  : Bajaj Finserv\n",
            "Website  : www.bajajfinserv.com\n",
            "Name: Haridharan M /  Location: Vellore / Number:+91 888888****\n"
          ]
        }
      ],
      "source": [
        "class Bajaj:\n",
        "  company = \"Bajaj Finserv\"\n",
        "  website = \"www.bajajfinserv.com\"\n",
        "\n",
        "  def contact_details(self):\n",
        "    print(\"Name: Haridharan M /  Location: Vellore / Number:+91 888888****\")\n",
        "\n",
        "class cd(Bajaj):\n",
        "  def __init__ (self):\n",
        "    self.name = \"CD\"\n",
        "    self.year = \"1996\"\n",
        "\n",
        "  def product_details(self):\n",
        "      print(\"Name     :\",self.name)\n",
        "      print(\"Year     :\",self.year)\n",
        "      print(\"Company  :\",self.company)\n",
        "      print(\"Website  :\",self.website)\n",
        "\n",
        "dep = cd()\n",
        "dep.product_details()\n",
        "dep.contact_details()\n",
        "      \n",
        "\n",
        "\n",
        "\n",
        "\n"
      ]
    },
    {
      "cell_type": "markdown",
      "source": [
        "###MULTIPLE INHERITANCE\n",
        "is a feature of object oriented concept where a class can inherit properties of ***more than one parent class***"
      ],
      "metadata": {
        "id": "_SeqpJNXkBN6"
      }
    },
    {
      "cell_type": "code",
      "source": [
        "class Father:                                       #class1\n",
        "  def fishing (self):\n",
        "    print(\"Fishing in Rivers\")\n",
        "  def chess (self):\n",
        "    print(\"Playing Chess From Father\")\n",
        "\n",
        "class Mother:                                       #class2\n",
        "  def cooking (self):\n",
        "    print(\"Cooking Foods\")\n",
        "  def chess (self):\n",
        "    print(\"Playing Chess From Father\")\n",
        "\n",
        "class Son(Father,Mother):                            #class3\n",
        "  def ride (self):\n",
        "    print(\"Riding Bicycle\")\n",
        "\n",
        "o = Son()\n",
        "o.ride()\n",
        "o.cooking()\n",
        "o.chess()\n",
        "o.fishing()\n",
        "\n"
      ],
      "metadata": {
        "colab": {
          "base_uri": "https://localhost:8080/"
        },
        "id": "msgcsxZAkWz4",
        "outputId": "77db93b4-6955-4953-9062-c5ce3ee4ccdf"
      },
      "execution_count": 15,
      "outputs": [
        {
          "output_type": "stream",
          "name": "stdout",
          "text": [
            "Riding Bicycle\n",
            "Cooking Foods\n",
            "Playing Chess From Father\n",
            "Fishing in Rivers\n"
          ]
        }
      ]
    },
    {
      "cell_type": "markdown",
      "source": [
        "###MULTILEVEL INHERITANCE\n"
      ],
      "metadata": {
        "id": "0LLb-c_ol1sP"
      }
    },
    {
      "cell_type": "code",
      "source": [
        "class GrandFather:\n",
        "  def ownhouse(self):\n",
        "    print(\"Grandpa House\")\n",
        "\n",
        "class Father(GrandFather):\n",
        "  def bike(self):\n",
        "    print(\"Fathers Bike\")\n",
        "\n",
        "class Son(Father):\n",
        "  def book(self):\n",
        "    print(\"Son's Book\")\n",
        "\n",
        "m = Son()\n",
        "m.bike()\n",
        "m.ownhouse()"
      ],
      "metadata": {
        "colab": {
          "base_uri": "https://localhost:8080/"
        },
        "id": "HdsAzCUUmDBB",
        "outputId": "29206aee-e8b5-4770-cb06-9acf22a1b486"
      },
      "execution_count": 22,
      "outputs": [
        {
          "output_type": "stream",
          "name": "stdout",
          "text": [
            "Fathers Bike\n",
            "Grandpa House\n"
          ]
        }
      ]
    }
  ]
}